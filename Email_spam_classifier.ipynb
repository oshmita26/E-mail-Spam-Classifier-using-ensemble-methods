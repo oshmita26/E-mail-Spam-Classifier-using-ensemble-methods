{
  "nbformat": 4,
  "nbformat_minor": 0,
  "metadata": {
    "colab": {
      "name": "Email_spam_classifier.ipynb",
      "provenance": [],
      "authorship_tag": "ABX9TyPBoRZdE1j9HzUObfAsB28F",
      "include_colab_link": true
    },
    "kernelspec": {
      "name": "python3",
      "display_name": "Python 3"
    },
    "language_info": {
      "name": "python"
    }
  },
  "cells": [
    {
      "cell_type": "markdown",
      "metadata": {
        "id": "view-in-github",
        "colab_type": "text"
      },
      "source": [
        "<a href=\"https://colab.research.google.com/github/oshmita26/E-mail-Spam-Classifier-using-ensemble-methods/blob/main/Email_spam_classifier.ipynb\" target=\"_parent\"><img src=\"https://colab.research.google.com/assets/colab-badge.svg\" alt=\"Open In Colab\"/></a>"
      ]
    },
    {
      "cell_type": "code",
      "execution_count": 2,
      "metadata": {
        "id": "Va_R3yjjEL08"
      },
      "outputs": [],
      "source": [
        "import pandas as pd\n",
        "from sklearn.model_selection import train_test_split\n",
        "from sklearn.feature_extraction.text import CountVectorizer\n",
        "from sklearn.naive_bayes import MultinomialNB\n",
        "from sklearn.metrics import accuracy_score, precision_score, recall_score, f1_score\n",
        "\n",
        "# Import the Bagging, RandomForest, and AdaBoost Classifier\n",
        "from sklearn.ensemble import BaggingClassifier, RandomForestClassifier, AdaBoostClassifier"
      ]
    },
    {
      "cell_type": "code",
      "source": [
        "from google.colab import drive\n",
        "drive.mount('/content/gdrive')"
      ],
      "metadata": {
        "colab": {
          "base_uri": "https://localhost:8080/"
        },
        "id": "diV_H0ILEppP",
        "outputId": "248f2587-ccd2-40d8-db0e-611ee5237ea7"
      },
      "execution_count": 3,
      "outputs": [
        {
          "output_type": "stream",
          "name": "stdout",
          "text": [
            "Mounted at /content/gdrive\n"
          ]
        }
      ]
    },
    {
      "cell_type": "code",
      "source": [
        "df = pd.read_table('/content/gdrive/MyDrive/SMSSpamCollection', sep='\\t', \n",
        "                   header=None, \n",
        "                   names=['label', 'sms_message'])"
      ],
      "metadata": {
        "id": "xB3nsPqTE3rY"
      },
      "execution_count": 6,
      "outputs": []
    },
    {
      "cell_type": "code",
      "source": [
        "# Fix our desired response\n",
        "df['label'] = df.label.map({'spam':1, 'ham':0})"
      ],
      "metadata": {
        "id": "7mpM3K9gFWA4"
      },
      "execution_count": 7,
      "outputs": []
    },
    {
      "cell_type": "code",
      "source": [
        "# Split our dataset into training and testing data\n",
        "X_train, X_test, y_train, y_test = train_test_split(df['sms_message'], \n",
        "                                                    df['label'], \n",
        "                                                    random_state=1)\n",
        "\n",
        "# Instantiate the CountVectorizer method\n",
        "count_vector = CountVectorizer()"
      ],
      "metadata": {
        "id": "H8y8QvudF027"
      },
      "execution_count": 8,
      "outputs": []
    },
    {
      "cell_type": "code",
      "source": [
        "# Fit the training data and then return the matrix\n",
        "training_data = count_vector.fit_transform(X_train)\n",
        "\n",
        "# Transform testing data and return the matrix. Note we are not fitting the testing data into the CountVectorizer()\n",
        "testing_data = count_vector.transform(X_test)"
      ],
      "metadata": {
        "id": "7Oio2mUHF3Qz"
      },
      "execution_count": 9,
      "outputs": []
    },
    {
      "cell_type": "code",
      "source": [
        "# Instantiate a BaggingClassifier with:\n",
        "# 200 weak learners (n_estimators) and everything else as default values\n",
        "\n",
        "bagging=BaggingClassifier(n_estimators=200)\n",
        "\n",
        "# Instantiate a RandomForestClassifier with:\n",
        "# 200 weak learners (n_estimators) and everything else as default values\n",
        "rforest = RandomForestClassifier(n_estimators=200)\n",
        "\n",
        "# Instantiate an a AdaBoostClassifier with:\n",
        "# With 300 weak learners (n_estimators) and a learning_rate of 0.2\n",
        "adaboost = AdaBoostClassifier(n_estimators=300, learning_rate=0.2)"
      ],
      "metadata": {
        "id": "jRGdUnfzF50A"
      },
      "execution_count": 10,
      "outputs": []
    },
    {
      "cell_type": "code",
      "source": [
        "# Fit your BaggingClassifier to the training data\n",
        "bagging.fit(training_data, y_train)\n",
        "\n",
        "# Fit your RandomForestClassifier to the training data\n",
        "rforest.fit(training_data, y_train)\n",
        "\n",
        "# Fit your AdaBoostClassifier to the training data\n",
        "adaboost.fit(training_data, y_train)\n"
      ],
      "metadata": {
        "colab": {
          "base_uri": "https://localhost:8080/"
        },
        "id": "Tf9Vdu3VF_cK",
        "outputId": "87f532b1-c8c3-4af4-f0a9-396f648f32c0"
      },
      "execution_count": 11,
      "outputs": [
        {
          "output_type": "execute_result",
          "data": {
            "text/plain": [
              "AdaBoostClassifier(learning_rate=0.2, n_estimators=300)"
            ]
          },
          "metadata": {},
          "execution_count": 11
        }
      ]
    },
    {
      "cell_type": "code",
      "source": [
        "# Predict using BaggingClassifier on the test data\n",
        "pred_bag = bagging.predict(testing_data)\n",
        "\n",
        "# Predict using RandomForestClassifier on the test data\n",
        "pred_for = rforest.predict(testing_data)\n",
        "\n",
        "# Predict using AdaBoostClassifier on the test data\n",
        "pred_ada = adaboost.predict(testing_data)"
      ],
      "metadata": {
        "id": "ug4IlEmJGCvY"
      },
      "execution_count": 12,
      "outputs": []
    },
    {
      "cell_type": "code",
      "source": [
        "def print_metrics(y_true, preds, model_name=None):\n",
        "    '''\n",
        "    INPUT:\n",
        "    y_true - the y values that are actually true in the dataset (NumPy array or pandas series)\n",
        "    preds - the predictions for those values from some model (NumPy array or pandas series)\n",
        "    model_name - (str - optional) a name associated with the model if you would like to add it to the print statements \n",
        "    \n",
        "    OUTPUT:\n",
        "    None - prints the accuracy, precision, recall, and F1 score\n",
        "    '''\n",
        "    if model_name == None:\n",
        "        print('Accuracy score: ', format(accuracy_score(y_true, preds)))\n",
        "        print('Precision score: ', format(precision_score(y_true, preds)))\n",
        "        print('Recall score: ', format(recall_score(y_true, preds)))\n",
        "        print('F1 score: ', format(f1_score(y_true, preds)))\n",
        "        print('\\n\\n')\n",
        "    \n",
        "    else:\n",
        "        print('Accuracy score for ' + model_name + ' :' , format(accuracy_score(y_true, preds)))\n",
        "        print('Precision score ' + model_name + ' :', format(precision_score(y_true, preds)))\n",
        "        print('Recall score ' + model_name + ' :', format(recall_score(y_true, preds)))\n",
        "        print('F1 score ' + model_name + ' :', format(f1_score(y_true, preds)))\n",
        "        print('\\n\\n')"
      ],
      "metadata": {
        "id": "C2Ykgsc4GLOs"
      },
      "execution_count": 13,
      "outputs": []
    },
    {
      "cell_type": "code",
      "source": [
        "# Print Bagging scores\n",
        "print_metrics(y_test, pred_bag)\n",
        "\n",
        "# Print Random Forest scores\n",
        "print_metrics(y_test, pred_for)\n",
        "\n",
        "# Print AdaBoost scores\n",
        "print_metrics(y_test, pred_ada)"
      ],
      "metadata": {
        "colab": {
          "base_uri": "https://localhost:8080/"
        },
        "id": "XjjKjavhGOf-",
        "outputId": "f56c4bf5-b334-4bc5-d7a4-7f8efb7352a0"
      },
      "execution_count": 14,
      "outputs": [
        {
          "output_type": "stream",
          "name": "stdout",
          "text": [
            "Accuracy score:  0.9763101220387652\n",
            "Precision score:  0.9222222222222223\n",
            "Recall score:  0.8972972972972973\n",
            "F1 score:  0.9095890410958904\n",
            "\n",
            "\n",
            "\n",
            "Accuracy score:  0.9820531227566404\n",
            "Precision score:  1.0\n",
            "Recall score:  0.8648648648648649\n",
            "F1 score:  0.927536231884058\n",
            "\n",
            "\n",
            "\n",
            "Accuracy score:  0.9770279971284996\n",
            "Precision score:  0.9693251533742331\n",
            "Recall score:  0.8540540540540541\n",
            "F1 score:  0.9080459770114943\n",
            "\n",
            "\n",
            "\n"
          ]
        }
      ]
    },
    {
      "cell_type": "code",
      "source": [
        ""
      ],
      "metadata": {
        "id": "S9TasGIBGTUR"
      },
      "execution_count": null,
      "outputs": []
    }
  ]
}